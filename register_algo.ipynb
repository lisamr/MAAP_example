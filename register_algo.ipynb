{
 "cells": [
  {
   "cell_type": "code",
   "execution_count": 10,
   "metadata": {},
   "outputs": [],
   "source": [
    "import glob, os, json \n",
    "from maap.maap import MAAP\n",
    "maap = MAAP(maap_host='api.maap-project.org')"
   ]
  },
  {
   "cell_type": "code",
   "execution_count": 12,
   "metadata": {},
   "outputs": [],
   "source": [
    "# make sure to add your MAAP_PGT token to your environment if you're outside the MAAP platform\n",
    "# if you're on MAAP already, it's already set\n",
    "\n",
    "# os.environ['MAAP_PGT'] = 'yourtoken'"
   ]
  },
  {
   "cell_type": "code",
   "execution_count": 5,
   "metadata": {},
   "outputs": [
    {
     "data": {
      "text/plain": [
       "['c:\\\\Users\\\\lrosenth\\\\OneDrive - California Air Resources Board\\\\Desktop\\\\MAAP_example/algorithm_config.yml']"
      ]
     },
     "execution_count": 5,
     "metadata": {},
     "output_type": "execute_result"
    }
   ],
   "source": [
    "# point to the algormithm_config.yml file\n",
    "current_dir = os.getcwd()\n",
    "configs = glob.glob(f'{current_dir}/algorithm_config.yml')\n",
    "configs"
   ]
  },
  {
   "cell_type": "code",
   "execution_count": 13,
   "metadata": {},
   "outputs": [
    {
     "name": "stdout",
     "output_type": "stream",
     "text": [
      "{\"code\": 200, \"message\": {\"id\": \"8f03037caa7289b1aff9c25b6f29fc645d3e253b\", \"short_id\": \"8f03037c\", \"created_at\": \"2024-03-13T22:43:22.000+00:00\", \"parent_ids\": [\"382c1e0c24e4240a078a3146be3a7ad09421dee3\"], \"title\": \"Registering algorithm: dummy-example\", \"message\": \"Registering algorithm: dummy-example\", \"author_name\": \"root\", \"author_email\": \"root@156a1941fa17\", \"authored_date\": \"2024-03-13T22:43:22.000+00:00\", \"committer_name\": \"root\", \"committer_email\": \"root@156a1941fa17\", \"committed_date\": \"2024-03-13T22:43:22.000+00:00\", \"trailers\": {}, \"web_url\": \"https://repo.maap-project.org/root/register-job-hysds-v4/-/commit/8f03037caa7289b1aff9c25b6f29fc645d3e253b\", \"stats\": {\"additions\": 7, \"deletions\": 7, \"total\": 14}, \"status\": \"pending\", \"project_id\": 3, \"last_pipeline\": {\"id\": 12767, \"iid\": 870, \"project_id\": 3, \"sha\": \"8f03037caa7289b1aff9c25b6f29fc645d3e253b\", \"ref\": \"main\", \"status\": \"pending\", \"source\": \"push\", \"created_at\": \"2024-03-13T22:43:24.000Z\", \"updated_at\": \"2024-03-13T22:43:24.424Z\", \"web_url\": \"https://repo.maap-project.org/root/register-job-hysds-v4/-/pipelines/12767\"}, \"job_web_url\": \"https://repo.maap-project.org/root/register-job-hysds-v4/-/jobs/13036\", \"job_log_url\": \"https://repo.maap-project.org/root/register-job-hysds-v4/-/jobs/13036/raw\"}}\n",
      "\n"
     ]
    }
   ],
   "source": [
    "for target_path in configs:\n",
    "    response = maap.register_algorithm_from_yaml_file(target_path)\n",
    "    print(response.text)"
   ]
  },
  {
   "cell_type": "markdown",
   "metadata": {},
   "source": [
    "If you want to check out the progress of your build, go to the link below and check out link next to Pipeline. "
   ]
  },
  {
   "cell_type": "code",
   "execution_count": 35,
   "metadata": {},
   "outputs": [
    {
     "data": {
      "text/plain": [
       "'https://repo.maap-project.org/root/register-job-hysds-v4/-/commit/8f03037caa7289b1aff9c25b6f29fc645d3e253b'"
      ]
     },
     "execution_count": 35,
     "metadata": {},
     "output_type": "execute_result"
    }
   ],
   "source": [
    "json_data = json.loads(response.text)\n",
    "json_data['message']['web_url']"
   ]
  }
 ],
 "metadata": {
  "kernelspec": {
   "display_name": "mapping",
   "language": "python",
   "name": "python3"
  },
  "language_info": {
   "codemirror_mode": {
    "name": "ipython",
    "version": 3
   },
   "file_extension": ".py",
   "mimetype": "text/x-python",
   "name": "python",
   "nbconvert_exporter": "python",
   "pygments_lexer": "ipython3",
   "version": "3.9.18"
  }
 },
 "nbformat": 4,
 "nbformat_minor": 2
}
